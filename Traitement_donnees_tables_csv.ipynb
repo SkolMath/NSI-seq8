{
 "cells": [
  {
   "cell_type": "markdown",
   "metadata": {
    "colab_type": "text",
    "id": "v1fbLTLYOuxb"
   },
   "source": [
    "# Manipulation de données en table , csv\n",
    "\n",
    "\n",
    "\n",
    " <img src=\"datascientist.jpg\" alt=\"Data scientist\" style=\"width:400px;\"> \n",
    "\n",
    "Notions Introduites : \n",
    "\n",
    "    1. Conversion de fichier csv en table\n",
    "    2. Sauvegarde de  table au format csv\n",
    "    3. Interrogation , tri, selection de table\n",
    "    4. Fusion de tables\n",
    "    \n",
    "Avec l'évolution des technologies, la masse de données enregistrées évolue sans cesse (sciences de l'ingénieur, intelligence artificielle, économie, finances). Le traitement de ces données est un enjeu majeur dans ces domaines. Les informaticiens qui manipulent et analysent ces données sont appelés des **Data Scientits** . \n",
    "Les données collectées sont d'une importance telle qu'il n'est plus possible de les exploiter dans un tableur.\n",
    "\n",
    "\n",
    "\n",
    "Le format csv (pour comma separated values, soit en français valeurs séparées par des virgules) est un format très pratique pour représenter des données structurées. Dans ce format, chaque ligne représente un enregistrement et, sur une même ligne, les différents champs de l’enregistrement sont séparés par une virgule (d’où le nom). En pratique, on peut spécifier le caractère utilisé pour séparer les différents champs et on utilise fréquemment un point-virgule (car la virgule est destinée au chiffre décimal en France), une tabulation ou deux points pour cela. Notons enfin que la première ligne d’un tel fichier est souvent utilisée pour indiquer le nom des différents champs. Dans ce cas, le premier enregistrement apparaî en deuxième ligne du fichier.\n",
    "\n",
    "Dans la suite, nous allons utiliser un fichier nommé countries.csv qui contient quelques données sur les différents pays du monde. En voici les premières lignes :\n",
    "\n",
    "---\n",
    "\n",
    "> 1  iso;name;area;population;continent;currency_code;currency_name;capital\n",
    ">\n",
    "> 2  AD;Andorra;468.0;84000;EU;EUR;Euro;6\n",
    ">\n",
    "> 3  AE;United Arab Emirates;82880.0;4975593;AS;AED;Dirham;21\n",
    ">\n",
    "> 4  AF;Afghanistan;647500.0;29121286;AS;AFN;Afghani;81\n",
    "\n",
    "---\n",
    "\n",
    "Les champs sont clairement séparés par des points-virgules. Les données sont issues du site http://www.geonames.org  et ont été légèrement simplifiées.\n",
    "\n",
    "### 1) Conversion de fichier csv en table\n",
    "\n",
    "Une façon de charger un fichier csv en Python est d’utiliser la bibliothèque du même nom. Voici une portion de code permettant de charger le fichier countries.csv avec des points-virgules comme délimitations : "
   ]
  },
  {
   "cell_type": "code",
   "execution_count": null,
   "metadata": {
    "colab": {},
    "colab_type": "code",
    "id": "P8IMLndyOuxj"
   },
   "outputs": [],
   "source": [
    "import csv\n",
    "pays = []\n",
    "with open('countries.csv', newline='') as csvfile:\n",
    "    spamreader = csv.reader(csvfile, delimiter=';')\n",
    "    for row in spamreader:\n",
    "        pays.append(row)\n",
    "print(pays [:4])"
   ]
  },
  {
   "cell_type": "markdown",
   "metadata": {
    "colab_type": "text",
    "id": "O8mNewNnOux6"
   },
   "source": [
    "#### A faire 1 : \n",
    "\n",
    "1. Explorer le contenu de la variable pays \n",
    "\n",
    "2. Créer une fonction permettant de prendre en entrée le chemin d'un fichier csv et qui retourne une table. Vous pourrez tenir compte des délimitations."
   ]
  },
  {
   "cell_type": "code",
   "execution_count": null,
   "metadata": {
    "colab": {},
    "colab_type": "code",
    "id": "Q41-Jn9pOux-"
   },
   "outputs": [],
   "source": [
    "# Réponse :\n",
    "import csv\n",
    "def transforme_en_table(fichier,delimitation):\n",
    "    ''' indiquer le programme à effectuer '''"
   ]
  },
  {
   "cell_type": "markdown",
   "metadata": {
    "colab_type": "text",
    "id": "KxjoJ4jIOuyJ"
   },
   "source": [
    "On s’aperçoit que lors de la lecture du fichier, la première ligne n’a pas été utilisée comme descriptions des champs et le premier enregistrement, concernant Andorre, apparaît dans pays[1] . PLus gênant, le lien entre les valeurs du tableau pays[1] et le nom des enregistrements, contenus dans pays[0] , n’est pas direct.\n",
    "Pour y remédier, nous allons utiliser DictReader qui retourne un dictionnaire pour chaque enregistrement, la première ligne étant utilisée pour nommer les différents champs."
   ]
  },
  {
   "cell_type": "code",
   "execution_count": null,
   "metadata": {
    "colab": {},
    "colab_type": "code",
    "id": "xcBVFIQSOuyN"
   },
   "outputs": [],
   "source": [
    "pays = []\n",
    "with open('countries.csv', newline='', encoding=\"utf8\") as csvfile:\n",
    "    spamreader = csv.DictReader(csvfile, delimiter=';')\n",
    "    for row in spamreader:\n",
    "        pays.append(dict(row))\n",
    "print(pays [:5])"
   ]
  },
  {
   "cell_type": "markdown",
   "metadata": {
    "colab_type": "text",
    "id": "hvd6Q_W3OuyY"
   },
   "source": [
    "#### A faire 2 :\n",
    "\n",
    "1. Explorer le contenu de la variable pays\n",
    "\n",
    "2. Créer une fonction permettant de prendre en entrée le chemin d'un fichier csv et qui retourne une table contenant des dictionnaires. Vous pourrez tenir compte des délimitations."
   ]
  },
  {
   "cell_type": "code",
   "execution_count": null,
   "metadata": {
    "colab": {},
    "colab_type": "code",
    "id": "WtZb2VfKOuyc"
   },
   "outputs": [],
   "source": [
    "# Réponse :\n",
    "\n",
    "def transforme_table_dictionnaire(fichier,delimitation):\n",
    "    '''     indiquer le programme à effectuer '''\n",
    "\n",
    "    "
   ]
  },
  {
   "cell_type": "markdown",
   "metadata": {
    "colab_type": "text",
    "id": "c4gOJ-dlOuyl"
   },
   "source": [
    "### 2) Sauvegarde d'une table au format csv\n",
    "\n",
    "A l'inverse, Une fois les données traîtées, il est important de pouvoir les exporter au format csv. Le code suivant permettra de sauvegarder les données :\n"
   ]
  },
  {
   "cell_type": "code",
   "execution_count": null,
   "metadata": {
    "colab": {},
    "colab_type": "code",
    "id": "jCulBfwjOuyv"
   },
   "outputs": [],
   "source": [
    "en_tetes = list(pays[0].keys())\n",
    "\n",
    "with open('stocks2.csv','w', newline='') as f:\n",
    "    f_csv = csv.DictWriter(f, en_tetes, delimiter= ';')\n",
    "    f_csv.writeheader()\n",
    "    f_csv.writerows(pays)\n"
   ]
  },
  {
   "cell_type": "markdown",
   "metadata": {
    "colab_type": "text",
    "id": "yQOolfICOuy4"
   },
   "source": [
    "#### A faire 3 :\n",
    "Créer une fonction permettant de prendre en entrée une table de dictionnaire et qui sauvegarde ces données dans un fichier."
   ]
  },
  {
   "cell_type": "code",
   "execution_count": null,
   "metadata": {
    "colab": {},
    "colab_type": "code",
    "id": "0JJfDzlVOuy6"
   },
   "outputs": [],
   "source": [
    "# Réponse :\n",
    "\n",
    "def transforme_table_fichier(table_dict, nom_fichier, separateur):\n",
    "        ''' indiquer le Programme à effectuer '''\n",
    "        "
   ]
  },
  {
   "cell_type": "markdown",
   "metadata": {
    "colab_type": "text",
    "id": "oXFf9DITOuzF"
   },
   "source": [
    "### 3) Interrogation , tri, selection de table\n",
    "\n",
    "#### a) Interrogation \n",
    "\n",
    "1. Déterminer le nombre et la liste des pays dont la monnaie est en euros.\n",
    "\n",
    "2. Déterminer le nombre et la liste des pays dont le nombre d'habitants est compris entre 10 et 50 milions .\n",
    "\n",
    "3. Déterminer le nombre de ville dont la latitude est proche de celle de Paris ( au centième de degré près)\n"
   ]
  },
  {
   "cell_type": "code",
   "execution_count": null,
   "metadata": {
    "colab": {},
    "colab_type": "code",
    "id": "cXYQaxYhOuzJ"
   },
   "outputs": [],
   "source": [
    "# Réponses \n",
    "\n",
    "\n"
   ]
  },
  {
   "cell_type": "markdown",
   "metadata": {
    "colab_type": "text",
    "id": "Ds7PqUyGOuzV"
   },
   "source": [
    "#### b) Tri\n",
    "\n",
    "Pour exploiter les données, il peut être intéressant de les trier. Une utilisation possible est l’obtention du classement des entrées selon tel ou tel critère. Une autre utilisation vient du fait que, comme présenté dans la partie algorithmique du programme, la recherche dichotomique dans un tableau trié est bien plus efficace que la recherche séquentielle dans un tableau quelconque.\n",
    "\n",
    "**Tri selon un unique critère**\n",
    "\n",
    "On ne peut pas directement trier le tableau pays ... car cela ne veut rien dire. Il faut indiquer selon quels critères on veut effectuer ce tri. Pour cela, on appelle la fonction sorted ou la méthode sort avec l’argument supplémentaire key qui est une fonction renvoyant la valeur utilisée pour le tri \n",
    "\n",
    "**Remarque** : la méthode sort trie la liste en place, alors que la fonction sorted renvoie une nouvelle liste correspondant la liste triée, la liste initiale étant laissée intacte.\n",
    "\n",
    "\n",
    "##### A faire 4 :\n",
    "\n",
    "1. Créer une nouvelles table contenant la liste triée des 10 plus grands pays en superficie. On affichera ensuite le résultat sous la forme : [(vill1,superficie1),(ville2,superficie2).....]\n",
    "\n",
    "2. Trier la table des pays par continent puis par nom du pays dans l'ordre décroissant\n",
    "\n"
   ]
  },
  {
   "cell_type": "code",
   "execution_count": null,
   "metadata": {
    "colab": {},
    "colab_type": "code",
    "id": "QPEukjnaOuzX"
   },
   "outputs": [],
   "source": [
    "# Réponse 1\n",
    "\n",
    "\n"
   ]
  },
  {
   "cell_type": "code",
   "execution_count": null,
   "metadata": {},
   "outputs": [],
   "source": [
    "# Réponse 2 \n",
    "\n",
    "\n"
   ]
  },
  {
   "cell_type": "markdown",
   "metadata": {
    "colab_type": "text",
    "id": "VfWkeuxbOuzj"
   },
   "source": [
    "Cependant, dans ce tri, les deux critères ont été utilisés pour un ordre croissant. Supposons maintenant que l’on veuille trier les pays\n",
    "par continent et, pour chaque continent, avoir les pays par population décroissante. La méthode précédente n’est pas applicable,\n",
    "car on a utilisé une unique clé (composée de deux éléments) pour un tri croissant. À la place, nous allons procéder en deux étapes :\n",
    "1. trier tous les pays par population décroissante ;\n",
    "2. trier ensuite le tableau obtenu par continent croissant.\n",
    "\n",
    "Cette fois, on utilisera la méthode sort afin de modifier la table donnée"
   ]
  },
  {
   "cell_type": "code",
   "execution_count": null,
   "metadata": {
    "colab": {},
    "colab_type": "code",
    "id": "phEDXSxmOuzl"
   },
   "outputs": [],
   "source": [
    "\n",
    "\n",
    "\n",
    "\n",
    "\n"
   ]
  },
  {
   "cell_type": "markdown",
   "metadata": {
    "colab_type": "text",
    "id": "0fd3KRonOuzu"
   },
   "source": [
    "**Remarque :**  Pour que cela soit possible, la fonction de tri de Python vérifie une propriété très importante : la stabilité. Cela signifie que lors d’un tri, si plusieurs enregistrements ont la même clé, l’ordre initial des enregistrements est conservé. Ainsi, si on a trié les pays par ordre décroissant de nom puis par continent, les pays d’un même continent seront regroupés en conservant l’ordre précédent, ici les noms sont dans l'ordre décroissant."
   ]
  },
  {
   "cell_type": "markdown",
   "metadata": {
    "colab_type": "text",
    "id": "_h7hW5zpOuzx"
   },
   "source": [
    "### 3) Fusion de table\n",
    "\n"
   ]
  },
  {
   "cell_type": "markdown",
   "metadata": {
    "colab_type": "text",
    "id": "wyyCQaFJOuz0"
   },
   "source": [
    "**Objectif :**   Dans la table des pays, la capitale est indiquée par un numéro... qui correspond au champ 'id' de la table des villes. Pour récupérer le nom de la capitale de chaque pays, <b>nous allons fusionner les tables en effectuant une jointure</b>. Ainsi, nous allons faire correspondre le champ capital de pays et le champ id de villes.\n",
    "[{'countyName':'France' , 'capital':'Paris'} ,  ......]\n",
    "\n",
    "On pourra utiliser la fonction deepCopy de la bibliothèque copy pour créer des copies de dictionnaires\n",
    "\n",
    "    "
   ]
  },
  {
   "cell_type": "code",
   "execution_count": null,
   "metadata": {},
   "outputs": [],
   "source": [
    "pays=transforme_table_dictionnaire('Countries.csv',';')\n",
    "villes=transforme_table_dictionnaire('Cities.csv',';')\n",
    "\n",
    "print(pays[:2])\n",
    "print(villes[:2])"
   ]
  },
  {
   "cell_type": "code",
   "execution_count": null,
   "metadata": {
    "colab": {},
    "colab_type": "code",
    "id": "oPGEZ9FPOuz2"
   },
   "outputs": [],
   "source": [
    "# Réponses : \n",
    "\n",
    "# Méthode1 ( sans fonction)\n",
    "from copy import deepcopy\n",
    "\n",
    "\n",
    "\n",
    "\n",
    "\n"
   ]
  },
  {
   "cell_type": "code",
   "execution_count": null,
   "metadata": {
    "colab": {},
    "colab_type": "code",
    "id": "yXnsNdDVOuz-"
   },
   "outputs": [],
   "source": [
    "# Méthode 2 ( généralisation avec fonctions)\n",
    "\n",
    "def jointure(table1, table2, cle1, cle2=None):\n",
    "\n",
    "    \n",
    "    \n",
    "    \n",
    "\n",
    "\n"
   ]
  },
  {
   "cell_type": "markdown",
   "metadata": {},
   "source": [
    "### L'année prochaine : Bases de données SQL \n",
    "Les bases de données SQL simplifient le traitement de toutes ces questions.\n",
    "\n",
    "Exemple avec la jointure :\n",
    "\n",
    "SELECT * FROM Pays \n",
    "INNER JOIN Villes ON Pays.id_capital = ville.id\n",
    "\n",
    "ou \n",
    "\n",
    "SELECT * FROM Pays, Villes\n",
    "where Pays.id_capital = ville.id\n",
    "\n",
    "\n",
    "\n"
   ]
  }
 ],
 "metadata": {
  "colab": {
   "name": "Traitement_donnees_tables_csv.ipynb",
   "provenance": [],
   "toc_visible": true
  },
  "kernelspec": {
   "display_name": "Python 3",
   "language": "python",
   "name": "python3"
  },
  "language_info": {
   "codemirror_mode": {
    "name": "ipython",
    "version": 3
   },
   "file_extension": ".py",
   "mimetype": "text/x-python",
   "name": "python",
   "nbconvert_exporter": "python",
   "pygments_lexer": "ipython3",
   "version": "3.7.4"
  }
 },
 "nbformat": 4,
 "nbformat_minor": 1
}
