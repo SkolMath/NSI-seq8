{
 "cells": [
  {
   "cell_type": "markdown",
   "metadata": {
    "colab_type": "text",
    "id": "v1fbLTLYOuxb"
   },
   "source": [
    "# Manipulation de données en table , csv\n",
    "\n",
    "\n",
    "\n",
    " <img src=\"datascientist.jpg\" alt=\"Data scientist\" style=\"width:400px;\"> \n",
    "\n",
    "Notions Introduites : \n",
    "\n",
    "    1. Conversion de fichier csv en table\n",
    "    2. Sauvegarde de  table au format csv\n",
    "    3. Interrogation , tri, selection de table\n",
    "    4. Fusion de tables\n",
    "    \n",
    "Avec l'évolution des technologies, la masse de données enregistrées évolue sans cesse (sciences de l'ingénieur, intelligence artificielle, économie, finances). Le traitement de ces données est un enjeu majeur dans ces domaines. Les informaticiens qui manipulent et analysent ces données sont appelés des **Data Scientits** . \n",
    "Les données collectées sont d'une importance telle qu'il n'est plus possible de les exploiter dans un tableur.\n",
    "\n",
    "\n",
    "\n",
    "Le format csv (pour comma separated values, soit en français valeurs séparées par des virgules) est un format très pratique pour représenter des données structurées. Dans ce format, chaque ligne représente un enregistrement et, sur une même ligne, les différents champs de l’enregistrement sont séparés par une virgule (d’où le nom). En pratique, on peut spécifier le caractère utilisé pour séparer les différents champs et on utilise fréquemment un point-virgule (car la virgule est destinée au chiffre décimal en France), une tabulation ou deux points pour cela. Notons enfin que la première ligne d’un tel fichier est souvent utilisée pour indiquer le nom des différents champs. Dans ce cas, le premier enregistrement apparaî en deuxième ligne du fichier.\n",
    "\n",
    "Dans la suite, nous allons utiliser un fichier nommé countries.csv qui contient quelques données sur les différents pays du monde. En voici les premières lignes :\n",
    "\n",
    "---\n",
    "\n",
    "> 1  iso;name;area;population;continent;currency_code;currency_name;capital\n",
    ">\n",
    "> 2  AD;Andorra;468.0;84000;EU;EUR;Euro;6\n",
    ">\n",
    "> 3  AE;United Arab Emirates;82880.0;4975593;AS;AED;Dirham;21\n",
    ">\n",
    "> 4  AF;Afghanistan;647500.0;29121286;AS;AFN;Afghani;81\n",
    "\n",
    "---\n",
    "\n",
    "Les champs sont clairement séparés par des points-virgules. Les données sont issues du site http://www.geonames.org  et ont été légèrement simplifiées.\n",
    "\n",
    "### 1) Conversion de fichier csv en table\n",
    "\n",
    "Une façon de charger un fichier csv en Python est d’utiliser la bibliothèque du même nom. Voici une portion de code permettant de charger le fichier countries.csv avec des points-virgules comme délimitations : "
   ]
  },
  {
   "cell_type": "code",
   "execution_count": 1,
   "metadata": {
    "colab": {},
    "colab_type": "code",
    "id": "P8IMLndyOuxj"
   },
   "outputs": [
    {
     "name": "stdout",
     "output_type": "stream",
     "text": [
      "[['ISO', 'Country', 'idCapital', 'Area', 'Population', 'Continent', 'CurrencyCode', 'CurrencyName'], ['AF', 'Afghanistan', '1138958', '647500', '29121286', 'AS', 'AFN', 'Afghani'], ['AX', 'Aland Islands', '3041732', '1580', '26711', 'EU', 'EUR', 'Euro'], ['AL', 'Albania', '3183875', '28748', '2986952', 'EU', 'ALL', 'Lek']]\n"
     ]
    }
   ],
   "source": [
    "import csv\n",
    "pays = []\n",
    "with open('countries.csv', newline='') as csvfile:\n",
    "    spamreader = csv.reader(csvfile, delimiter=';')\n",
    "    for row in spamreader:\n",
    "        pays.append(row)\n",
    "print(pays [:4])"
   ]
  },
  {
   "cell_type": "markdown",
   "metadata": {
    "colab_type": "text",
    "id": "O8mNewNnOux6"
   },
   "source": [
    "#### A faire 1 : \n",
    "\n",
    "1. Explorer le contenu de la variable pays \n",
    "\n",
    "2. Créer une fonction permettant de prendre en entrée le chemin d'un fichier csv et qui retourne une table. Vous pourrez tenir compte des délimitations."
   ]
  },
  {
   "cell_type": "code",
   "execution_count": 2,
   "metadata": {
    "colab": {},
    "colab_type": "code",
    "id": "Q41-Jn9pOux-"
   },
   "outputs": [
    {
     "name": "stdout",
     "output_type": "stream",
     "text": [
      "============================================\n",
      "[['ISO', 'Country', 'idCapital', 'Area', 'Population', 'Continent', 'CurrencyCode', 'CurrencyName'], ['AF', 'Afghanistan', '1138958', '647500', '29121286', 'AS', 'AFN', 'Afghani'], ['AX', 'Aland Islands', '3041732', '1580', '26711', 'EU', 'EUR', 'Euro'], ['AL', 'Albania', '3183875', '28748', '2986952', 'EU', 'ALL', 'Lek']]\n"
     ]
    }
   ],
   "source": [
    "# Réponse :\n",
    "import csv\n",
    "def transforme_en_table(fichier,delimitation):\n",
    "    '''\n",
    "    Préconditions : fichier est au format str et correspond au chemin du fichier à importer \n",
    "                    separateur est au format str et correspond au caractère de délimitation du fichier csv\n",
    "    Postcondition : retourne une liste de listes avec une première liste correspondant aux champs du fichier\n",
    "    '''\n",
    "    liste = []\n",
    "    with open(fichier, newline='') as csvfile:\n",
    "        linereader = csv.reader(csvfile, delimiter=delimitation)\n",
    "        for row in linereader:\n",
    "            liste.append(row)\n",
    "    return liste\n",
    "print(\"============================================\")\n",
    "pays1=transforme_en_table('countries.csv',';')\n",
    "print(pays1 [:4])"
   ]
  },
  {
   "cell_type": "markdown",
   "metadata": {
    "colab_type": "text",
    "id": "KxjoJ4jIOuyJ"
   },
   "source": [
    "On s’aperçoit que lors de la lecture du fichier, la première ligne n’a pas été utilisée comme descriptions des champs et le premier enregistrement, concernant Andorre, apparaît dans pays[1] . PLus gênant, le lien entre les valeurs du tableau pays[1] et le nom des enregistrements, contenus dans pays[0] , n’est pas direct.\n",
    "Pour y remédier, nous allons utiliser DictReader qui retourne un dictionnaire pour chaque enregistrement, la première ligne étant utilisée pour nommer les différents champs."
   ]
  },
  {
   "cell_type": "code",
   "execution_count": 3,
   "metadata": {
    "colab": {},
    "colab_type": "code",
    "id": "xcBVFIQSOuyN"
   },
   "outputs": [
    {
     "name": "stdout",
     "output_type": "stream",
     "text": [
      "[{'ISO': 'AF', 'Country': 'Afghanistan', 'idCapital': '1138958', 'Area': '647500', 'Population': '29121286', 'Continent': 'AS', 'CurrencyCode': 'AFN', 'CurrencyName': 'Afghani'}, {'ISO': 'AX', 'Country': 'Aland Islands', 'idCapital': '3041732', 'Area': '1580', 'Population': '26711', 'Continent': 'EU', 'CurrencyCode': 'EUR', 'CurrencyName': 'Euro'}, {'ISO': 'AL', 'Country': 'Albania', 'idCapital': '3183875', 'Area': '28748', 'Population': '2986952', 'Continent': 'EU', 'CurrencyCode': 'ALL', 'CurrencyName': 'Lek'}, {'ISO': 'DZ', 'Country': 'Algeria', 'idCapital': '2507480', 'Area': '2381740', 'Population': '34586184', 'Continent': 'AF', 'CurrencyCode': 'DZD', 'CurrencyName': 'Dinar'}, {'ISO': 'AS', 'Country': 'American Samoa', 'idCapital': '5881576', 'Area': '199', 'Population': '57881', 'Continent': 'OC', 'CurrencyCode': 'USD', 'CurrencyName': 'Dollar'}]\n"
     ]
    }
   ],
   "source": [
    "pays = []\n",
    "with open('countries.csv', newline='', encoding=\"utf8\") as csvfile:\n",
    "    spamreader = csv.DictReader(csvfile, delimiter=';')\n",
    "    for row in spamreader:\n",
    "        pays.append(dict(row))\n",
    "print(pays [:5])"
   ]
  },
  {
   "cell_type": "markdown",
   "metadata": {
    "colab_type": "text",
    "id": "hvd6Q_W3OuyY"
   },
   "source": [
    "#### A faire 2 :\n",
    "\n",
    "1. Explorer le contenu de la variable pays\n",
    "\n",
    "2. Créer une fonction permettant de prendre en entrée le chemin d'un fichier csv et qui retourne une table contenant des dictionnaires. Vous pourrez tenir compte des délimitations."
   ]
  },
  {
   "cell_type": "code",
   "execution_count": 4,
   "metadata": {
    "colab": {},
    "colab_type": "code",
    "id": "WtZb2VfKOuyc"
   },
   "outputs": [
    {
     "name": "stdout",
     "output_type": "stream",
     "text": [
      "=======================================\n",
      "[{'ISO': 'AF', 'Country': 'Afghanistan', 'idCapital': '1138958', 'Area': '647500', 'Population': '29121286', 'Continent': 'AS', 'CurrencyCode': 'AFN', 'CurrencyName': 'Afghani'}, {'ISO': 'AX', 'Country': 'Aland Islands', 'idCapital': '3041732', 'Area': '1580', 'Population': '26711', 'Continent': 'EU', 'CurrencyCode': 'EUR', 'CurrencyName': 'Euro'}, {'ISO': 'AL', 'Country': 'Albania', 'idCapital': '3183875', 'Area': '28748', 'Population': '2986952', 'Continent': 'EU', 'CurrencyCode': 'ALL', 'CurrencyName': 'Lek'}, {'ISO': 'DZ', 'Country': 'Algeria', 'idCapital': '2507480', 'Area': '2381740', 'Population': '34586184', 'Continent': 'AF', 'CurrencyCode': 'DZD', 'CurrencyName': 'Dinar'}, {'ISO': 'AS', 'Country': 'American Samoa', 'idCapital': '5881576', 'Area': '199', 'Population': '57881', 'Continent': 'OC', 'CurrencyCode': 'USD', 'CurrencyName': 'Dollar'}]\n"
     ]
    }
   ],
   "source": [
    "# Réponse :\n",
    "\n",
    "def transforme_table_dictionnaire(fichier,delimitation):\n",
    "    '''\n",
    "    Préconditions : fichier est au format str et correspond au chemin du fichier à importer \n",
    "                    separateur est au format str et correspond au caractère de délimitation du fichier csv\n",
    "    Postcondition : retourne une liste de listes avec une première liste correspondant aux champs du fichier\n",
    "    '''\n",
    "    liste=[]\n",
    "    with open(fichier, newline='', encoding=\"utf8\") as csvfile:\n",
    "        linereader = csv.DictReader(csvfile, delimiter=delimitation)\n",
    "        for row in linereader:\n",
    "            liste.append(dict(row))\n",
    "    return liste\n",
    "\n",
    "print(\"=======================================\")\n",
    "pays2=transforme_table_dictionnaire('countries.csv',';')\n",
    "print(pays2 [:5])\n",
    "    "
   ]
  },
  {
   "cell_type": "markdown",
   "metadata": {
    "colab_type": "text",
    "id": "c4gOJ-dlOuyl"
   },
   "source": [
    "### 2) Sauvegarde d'une table au format csv\n",
    "\n",
    "A l'inverse, Une fois les données traîtées, il est important de pouvoir les exporter au format csv. Le code suivant permettra de sauvegarder les données :\n"
   ]
  },
  {
   "cell_type": "code",
   "execution_count": 5,
   "metadata": {
    "colab": {},
    "colab_type": "code",
    "id": "jCulBfwjOuyv"
   },
   "outputs": [],
   "source": [
    "en_tetes = list(pays[0].keys())\n",
    "\n",
    "with open('stocks2.csv','w', newline='') as f:\n",
    "    f_csv = csv.DictWriter(f, en_tetes, delimiter= ';')\n",
    "    f_csv.writeheader()\n",
    "    f_csv.writerows(pays)\n"
   ]
  },
  {
   "cell_type": "markdown",
   "metadata": {
    "colab_type": "text",
    "id": "yQOolfICOuy4"
   },
   "source": [
    "#### A faire 3 :\n",
    "Créer une fonction permettant de prendre en entrée une table de dictionnaire et qui sauvegarde ces données dans un fichier."
   ]
  },
  {
   "cell_type": "code",
   "execution_count": 6,
   "metadata": {
    "colab": {},
    "colab_type": "code",
    "id": "0JJfDzlVOuy6"
   },
   "outputs": [],
   "source": [
    "# Réponse :\n",
    "\n",
    "def transforme_table_fichier(table_dict, nom_fichier, separateur):\n",
    "    '''\n",
    "    Préconditions : data est une table de dictionnaires\n",
    "                    fichier est au format str et correspond au chemin du fichier à importer \n",
    "                    separateur est au format str et correspond au caractère de délimitation du fichier csv\n",
    "    Postcondition : Sauvegarde le fichier csv correspondant aux données\n",
    "    '''\n",
    "    en_tetes = list(table_dict[0].keys())\n",
    "    with open(nom_fichier,'w', newline='') as f:\n",
    "        f_csv = csv.DictWriter(f, en_tetes, delimiter= separateur)\n",
    "        f_csv.writeheader()\n",
    "        f_csv.writerows(table_dict)\n",
    "        \n",
    "transforme_table_fichier(pays2,'sauvegarde.csv',';')"
   ]
  },
  {
   "cell_type": "markdown",
   "metadata": {
    "colab_type": "text",
    "id": "oXFf9DITOuzF"
   },
   "source": [
    "### 3) Interrogation , tri, selection de table\n",
    "\n",
    "#### a) Interrogation \n",
    "\n",
    "1. Déterminer le nombre et la liste des pays dont la monnaie est en euros.\n",
    "\n",
    "2. Déterminer le nombre et la liste des pays dont le nombre d'habitants est compris entre 10 et 50 milions .\n",
    "\n",
    "3. Déterminer le nombre de ville dont la latitude est proche de celle de Paris ( au centième de degré près)\n"
   ]
  },
  {
   "cell_type": "code",
   "execution_count": 7,
   "metadata": {
    "colab": {},
    "colab_type": "code",
    "id": "cXYQaxYhOuzJ"
   },
   "outputs": [
    {
     "name": "stdout",
     "output_type": "stream",
     "text": [
      " question 1.\n",
      "**************************************************\n",
      "Nombre de pays qui ont l'euro pour monnaie : 35\n",
      "['Aland Islands', 'Andorra', 'Austria', 'Belgium', 'Cyprus', 'Estonia', 'Finland', 'France', 'French Guiana', 'French Southern Territories', 'Germany', 'Greece', 'Guadeloupe', 'Ireland', 'Italy', 'Kosovo', 'Latvia', 'Lithuania', 'Luxembourg', 'Malta', 'Martinique', 'Mayotte', 'Monaco', 'Montenegro', 'Netherlands', 'Portugal', 'Reunion', 'Saint Barthelemy', 'Saint Martin', 'Saint Pierre and Miquelon', 'San Marino', 'Slovakia', 'Slovenia', 'Spain', 'Vatican']\n",
      "\n",
      " question 2.\n",
      "**************************************************\n",
      "Nombre de pays : 59\n",
      "['Afghanistan', 'Algeria', 'Angola', 'Argentina', 'Australia', 'Belgium', 'Burkina Faso', 'Cambodia', 'Cameroon', 'Canada', 'Chad', 'Chile', 'Colombia', 'Cuba', 'Czechia', 'Ecuador', 'Ghana', 'Greece', 'Guatemala', 'Guinea', 'Iraq', 'Ivory Coast', 'Kazakhstan', 'Kenya', 'Madagascar', 'Malawi', 'Malaysia', 'Mali', 'Morocco', 'Mozambique', 'Nepal', 'Netherlands', 'Niger', 'North Korea', 'Peru', 'Poland', 'Portugal', 'Romania', 'Rwanda', 'Saudi Arabia', 'Senegal', 'Serbia and Montenegro', 'Somalia', 'South Africa', 'South Korea', 'Spain', 'Sri Lanka', 'Sudan', 'Syria', 'Taiwan', 'Tanzania', 'Tunisia', 'Uganda', 'Ukraine', 'Uzbekistan', 'Venezuela', 'Yemen', 'Zambia', 'Zimbabwe']\n",
      "\n",
      " question 3.\n",
      "**************************************************\n",
      "Nombre de villes : 22\n",
      "['North Cowichan', 'Hodonín', 'Weissach', 'Neuenbürg', 'Stuttgart Mühlhausen', 'Korb', 'Deggendorf', 'Alfdorf', 'Vincennes', 'Vaucresson', 'Saint-Cloud', 'Noisy-le-Roi', 'Noisy-le-Grand', 'Noisiel', 'Le Perreux-sur-Marne', 'Garches', 'Condé-sur-Noireau', 'Champs-sur-Marne', 'Bussy-Saint-Georges', 'Skalica', 'Slavske', 'Ferndale']\n"
     ]
    }
   ],
   "source": [
    "# Réponses \n",
    "print(\" question 1.\\n**************************************************\")\n",
    "\n",
    "liste_euro = [ row[\"Country\"] for row in pays2 if row[\"CurrencyCode\"]==\"EUR\"]\n",
    "\n",
    "print(\"Nombre de pays qui ont l'euro pour monnaie : \"+str(len(liste_euro)))\n",
    "print(liste_euro)\n",
    "        \n",
    "print(\"\\n question 2.\\n**************************************************\")\n",
    "\n",
    "liste_hab=[row[\"Country\"] for row in pays2 if int(row[\"Population\"])>10000000 and int(row[\"Population\"])<50000000 ]\n",
    "\n",
    "print(\"Nombre de pays : \"+str(len(liste_hab)))\n",
    "print(liste_hab)\n",
    "\n",
    "print(\"\\n question 3.\\n**************************************************\")\n",
    "\n",
    "villes=transforme_table_dictionnaire('cities.csv',';')\n",
    "\n",
    "liste_ville=[ row['CityName'] for row in villes if float(row['Latitude'])>=48.84 and float(row['Latitude'])<=48.85]\n",
    "\n",
    "print(\"Nombre de villes : \"+str(len(liste_ville)))\n",
    "print(liste_ville)\n"
   ]
  },
  {
   "cell_type": "markdown",
   "metadata": {
    "colab_type": "text",
    "id": "Ds7PqUyGOuzV"
   },
   "source": [
    "#### b) Tri\n",
    "\n",
    "Pour exploiter les données, il peut être intéressant de les trier. Une utilisation possible est l’obtention du classement des entrées selon tel ou tel critère. Une autre utilisation vient du fait que, comme présenté dans la partie algorithmique du programme, la recherche dichotomique dans un tableau trié est bien plus efficace que la recherche séquentielle dans un tableau quelconque.\n",
    "\n",
    "**Tri selon un unique critère**\n",
    "\n",
    "On ne peut pas directement trier le tableau pays ... car cela ne veut rien dire. Il faut indiquer selon quels critères on veut effectuer ce tri. Pour cela, on appelle la fonction sorted ou la méthode sort avec l’argument supplémentaire key qui est une fonction renvoyant la valeur utilisée pour le tri \n",
    "\n",
    "**Remarque** : la méthode sort trie la liste en place, alors que la fonction sorted renvoie une nouvelle liste correspondant la liste triée, la liste initiale étant laissée intacte.\n",
    "\n",
    "\n",
    "##### A faire 4 :\n",
    "\n",
    "1. Créer une nouvelles table contenant la liste triée des 10 plus grands pays en superficie. On affichera ensuite le résultat sous la forme : [(vill1,superficie1),(ville2,superficie2).....]\n",
    "\n",
    "2. Trier la table des pays par continent puis par nom du pays dans l'ordre décroissant\n",
    "\n"
   ]
  },
  {
   "cell_type": "code",
   "execution_count": 8,
   "metadata": {
    "colab": {},
    "colab_type": "code",
    "id": "QPEukjnaOuzX"
   },
   "outputs": [
    {
     "name": "stdout",
     "output_type": "stream",
     "text": [
      "[{'ISO': 'RU', 'Country': 'Russia', 'idCapital': '524901', 'Area': '17100000', 'Population': '140702000', 'Continent': 'EU', 'CurrencyCode': 'RUB', 'CurrencyName': 'Ruble'}, {'ISO': 'AQ', 'Country': 'Antarctica', 'idCapital': '0', 'Area': '14000000', 'Population': '0', 'Continent': 'AN', 'CurrencyCode': '', 'CurrencyName': ''}, {'ISO': 'CA', 'Country': 'Canada', 'idCapital': '6094817', 'Area': '9984670', 'Population': '33679000', 'Continent': 'NA', 'CurrencyCode': 'CAD', 'CurrencyName': 'Dollar'}, {'ISO': 'US', 'Country': 'United States', 'idCapital': '4140963', 'Area': '9629091', 'Population': '310232863', 'Continent': 'NA', 'CurrencyCode': 'USD', 'CurrencyName': 'Dollar'}, {'ISO': 'CN', 'Country': 'China', 'idCapital': '1816670', 'Area': '9596960', 'Population': '1330044000', 'Continent': 'AS', 'CurrencyCode': 'CNY', 'CurrencyName': 'Yuan Renminbi'}]\n",
      "[('Russia', '17100000'), ('Antarctica', '14000000'), ('Canada', '9984670'), ('United States', '9629091'), ('China', '9596960')]\n",
      "[{'ISO': 'RU', 'Country': 'Russia', 'idCapital': '524901', 'Area': '17100000', 'Population': '140702000', 'Continent': 'EU', 'CurrencyCode': 'RUB', 'CurrencyName': 'Ruble'}, {'ISO': 'AQ', 'Country': 'Antarctica', 'idCapital': '0', 'Area': '14000000', 'Population': '0', 'Continent': 'AN', 'CurrencyCode': '', 'CurrencyName': ''}, {'ISO': 'CA', 'Country': 'Canada', 'idCapital': '6094817', 'Area': '9984670', 'Population': '33679000', 'Continent': 'NA', 'CurrencyCode': 'CAD', 'CurrencyName': 'Dollar'}, {'ISO': 'US', 'Country': 'United States', 'idCapital': '4140963', 'Area': '9629091', 'Population': '310232863', 'Continent': 'NA', 'CurrencyCode': 'USD', 'CurrencyName': 'Dollar'}, {'ISO': 'CN', 'Country': 'China', 'idCapital': '1816670', 'Area': '9596960', 'Population': '1330044000', 'Continent': 'AS', 'CurrencyCode': 'CNY', 'CurrencyName': 'Yuan Renminbi'}]\n",
      "[('Russia', '17100000'), ('Antarctica', '14000000'), ('Canada', '9984670'), ('United States', '9629091'), ('China', '9596960')]\n"
     ]
    }
   ],
   "source": [
    "# Réponse 1\n",
    "# a) 1ère Méthode\n",
    "\n",
    "def cle_superficie(p):\n",
    "    return float(p['Area'])\n",
    "\n",
    "table_triee_par_superficie=sorted(pays,key=cle_superficie, reverse=True)\n",
    "print(table_triee_par_superficie[:5])\n",
    "print([(p['Country'], p['Area']) for p in table_triee_par_superficie[:5]])\n",
    "\n",
    "# b) 2ème Méthode avec fonction lambda\n",
    "table_triee_par_superficie2=sorted(pays,key=lambda p:float(p['Area']), reverse=True)\n",
    "print(table_triee_par_superficie[:5])\n",
    "print([(p['Country'], p['Area']) for p in table_triee_par_superficie2[:5] ])\n"
   ]
  },
  {
   "cell_type": "code",
   "execution_count": 9,
   "metadata": {},
   "outputs": [
    {
     "name": "stdout",
     "output_type": "stream",
     "text": [
      "[{'ISO': 'DZ', 'Country': 'Algeria', 'idCapital': '2507480', 'Area': '2381740', 'Population': '34586184', 'Continent': 'AF', 'CurrencyCode': 'DZD', 'CurrencyName': 'Dinar'}, {'ISO': 'AO', 'Country': 'Angola', 'idCapital': '2240449', 'Area': '1246700', 'Population': '13068161', 'Continent': 'AF', 'CurrencyCode': 'AOA', 'CurrencyName': 'Kwanza'}, {'ISO': 'BJ', 'Country': 'Benin', 'idCapital': '2392087', 'Area': '112620', 'Population': '9056010', 'Continent': 'AF', 'CurrencyCode': 'XOF', 'CurrencyName': 'Franc'}, {'ISO': 'BW', 'Country': 'Botswana', 'idCapital': '933773', 'Area': '600370', 'Population': '2029307', 'Continent': 'AF', 'CurrencyCode': 'BWP', 'CurrencyName': 'Pula'}, {'ISO': 'BF', 'Country': 'Burkina Faso', 'idCapital': '2357048', 'Area': '274200', 'Population': '16241811', 'Continent': 'AF', 'CurrencyCode': 'XOF', 'CurrencyName': 'Franc'}]\n",
      "[('AF', 'Algeria', '2381740'), ('AF', 'Angola', '1246700'), ('AF', 'Benin', '112620'), ('AF', 'Botswana', '600370'), ('AF', 'Burkina Faso', '274200')]\n"
     ]
    }
   ],
   "source": [
    "# Réponse 2 \n",
    "def cle_combinee(p):\n",
    "    return (p['Continent'], p['Country'])\n",
    "\n",
    "table_triee_par_continent_nom=sorted(pays,key=cle_combinee, reverse=False)\n",
    "print(table_triee_par_continent_nom[:5])\n",
    "print([(p['Continent'],p['Country'], p['Area']) for p in table_triee_par_continent_nom[:5] ])"
   ]
  },
  {
   "cell_type": "markdown",
   "metadata": {
    "colab_type": "text",
    "id": "VfWkeuxbOuzj"
   },
   "source": [
    "Cependant, dans ce tri, les deux critères ont été utilisés pour un ordre croissant. Supposons maintenant que l’on veuille trier les pays\n",
    "par continent et, pour chaque continent, avoir les pays par population décroissante. La méthode précédente n’est pas applicable,\n",
    "car on a utilisé une unique clé (composée de deux éléments) pour un tri croissant. À la place, nous allons procéder en deux étapes :\n",
    "1. trier tous les pays par population décroissante ;\n",
    "2. trier ensuite le tableau obtenu par continent croissant.\n",
    "\n",
    "Cette fois, on utilisera la méthode sort afin de modifier la table donnée"
   ]
  },
  {
   "cell_type": "code",
   "execution_count": 10,
   "metadata": {
    "colab": {},
    "colab_type": "code",
    "id": "phEDXSxmOuzl"
   },
   "outputs": [
    {
     "name": "stdout",
     "output_type": "stream",
     "text": [
      "[('AF', 'Zimbabwe'), ('AF', 'Zambia'), ('AS', 'Yemen'), ('AF', 'Western Sahara'), ('OC', 'Wallis and Futuna'), ('AS', 'Vietnam'), ('SA', 'Venezuela'), ('EU', 'Vatican'), ('OC', 'Vanuatu'), ('AS', 'Uzbekistan')]\n",
      "[('AF', 'Zimbabwe'), ('AF', 'Zambia'), ('AF', 'Western Sahara'), ('AF', 'Uganda'), ('AF', 'Tunisia'), ('AF', 'Togo'), ('AF', 'Tanzania'), ('AF', 'Sudan'), ('AF', 'South Sudan'), ('AF', 'South Africa')]\n",
      "[('AF', 'Zimbabwe'), ('AF', 'Zambia'), ('AF', 'Western Sahara'), ('AF', 'Uganda'), ('AF', 'Tunisia')]\n"
     ]
    }
   ],
   "source": [
    "#Méthode 1\n",
    "\n",
    "def clé_Continent(p):\n",
    "    return p['Continent']\n",
    "\n",
    "def clé_Country(p):\n",
    "    return p['Country']\n",
    "\n",
    "pays.sort(key=clé_Country, reverse=True)\n",
    "print([(p['Continent'],p['Country']) for p in pays ][:10])\n",
    "pays.sort(key=clé_Continent)\n",
    "print([(p['Continent'],p['Country']) for p in pays ][:10])\n",
    "\n",
    "#Méthode 2\n",
    "pays.sort(key=lambda p:p['Country'] , reverse=True)\n",
    "pays.sort(key=lambda p:p['Continent'])\n",
    "print([(p['Continent'],p['Country']) for p in pays ][:5])\n"
   ]
  },
  {
   "cell_type": "markdown",
   "metadata": {
    "colab_type": "text",
    "id": "0fd3KRonOuzu"
   },
   "source": [
    "**Remarque :**  Pour que cela soit possible, la fonction de tri de Python vérifie une propriété très importante : la stabilité. Cela signifie que lors d’un tri, si plusieurs enregistrements ont la même clé, l’ordre initial des enregistrements est conservé. Ainsi, si on a trié les pays par ordre décroissant de nom puis par continent, les pays d’un même continent seront regroupés en conservant l’ordre précédent, ici les noms sont dans l'ordre décroissant."
   ]
  },
  {
   "cell_type": "markdown",
   "metadata": {
    "colab_type": "text",
    "id": "_h7hW5zpOuzx"
   },
   "source": [
    "### 3) Fusion de table\n",
    "\n"
   ]
  },
  {
   "cell_type": "markdown",
   "metadata": {
    "colab_type": "text",
    "id": "wyyCQaFJOuz0"
   },
   "source": [
    "**Objectif :**   Dans la table des pays, la capitale est indiquée par un numéro... qui correspond au champ 'id' de la table des villes. Pour récupérer le nom de la capitale de chaque pays, <b>nous allons fusionner les tables en effectuant une jointure</b>. Ainsi, nous allons faire correspondre le champ capital de pays et le champ id de villes.\n",
    "[{'countyName':'France' , 'capital':'Paris'} ,  ......]\n",
    "\n",
    "On pourra utiliser la fonction deepCopy de la bibliothèque copy pour créer des copies de dictionnaires\n",
    "\n",
    "    "
   ]
  },
  {
   "cell_type": "code",
   "execution_count": 11,
   "metadata": {},
   "outputs": [
    {
     "name": "stdout",
     "output_type": "stream",
     "text": [
      "[{'ISO': 'AF', 'Country': 'Afghanistan', 'idCapital': '1138958', 'Area': '647500', 'Population': '29121286', 'Continent': 'AS', 'CurrencyCode': 'AFN', 'CurrencyName': 'Afghani'}, {'ISO': 'AX', 'Country': 'Aland Islands', 'idCapital': '3041732', 'Area': '1580', 'Population': '26711', 'Continent': 'EU', 'CurrencyCode': 'EUR', 'CurrencyName': 'Euro'}]\n",
      "[{'id': '3039163', 'CityName': 'Sant Julià de Lòria', 'Latitude': '42.46372', 'Longitude': '1.49129', 'CountryCode': 'AD', 'Population': '8022'}, {'id': '3039678', 'CityName': 'Ordino', 'Latitude': '42.55623', 'Longitude': '1.53319', 'CountryCode': 'AD', 'Population': '3066'}]\n"
     ]
    }
   ],
   "source": [
    "pays=transforme_table_dictionnaire('Countries.csv',';')\n",
    "villes=transforme_table_dictionnaire('Cities.csv',';')\n",
    "\n",
    "print(pays[:2])\n",
    "print(villes[:2])"
   ]
  },
  {
   "cell_type": "code",
   "execution_count": 12,
   "metadata": {
    "colab": {},
    "colab_type": "code",
    "id": "oPGEZ9FPOuz2"
   },
   "outputs": [
    {
     "data": {
      "text/plain": [
       "[{'ISO': 'AF',\n",
       "  'Country': 'Afghanistan',\n",
       "  'idCapital': '1138958',\n",
       "  'Area': '647500',\n",
       "  'Population': '29121286',\n",
       "  'Continent': 'AS',\n",
       "  'CurrencyCode': 'AFN',\n",
       "  'CurrencyName': 'Afghani',\n",
       "  'Capital_name': 'Kabul'},\n",
       " {'ISO': 'AX',\n",
       "  'Country': 'Aland Islands',\n",
       "  'idCapital': '3041732',\n",
       "  'Area': '1580',\n",
       "  'Population': '26711',\n",
       "  'Continent': 'EU',\n",
       "  'CurrencyCode': 'EUR',\n",
       "  'CurrencyName': 'Euro',\n",
       "  'Capital_name': 'Mariehamn'},\n",
       " {'ISO': 'AL',\n",
       "  'Country': 'Albania',\n",
       "  'idCapital': '3183875',\n",
       "  'Area': '28748',\n",
       "  'Population': '2986952',\n",
       "  'Continent': 'EU',\n",
       "  'CurrencyCode': 'ALL',\n",
       "  'CurrencyName': 'Lek',\n",
       "  'Capital_name': 'Tirana'},\n",
       " {'ISO': 'DZ',\n",
       "  'Country': 'Algeria',\n",
       "  'idCapital': '2507480',\n",
       "  'Area': '2381740',\n",
       "  'Population': '34586184',\n",
       "  'Continent': 'AF',\n",
       "  'CurrencyCode': 'DZD',\n",
       "  'CurrencyName': 'Dinar',\n",
       "  'Capital_name': 'Algiers'},\n",
       " {'ISO': 'AS',\n",
       "  'Country': 'American Samoa',\n",
       "  'idCapital': '5881576',\n",
       "  'Area': '199',\n",
       "  'Population': '57881',\n",
       "  'Continent': 'OC',\n",
       "  'CurrencyCode': 'USD',\n",
       "  'CurrencyName': 'Dollar',\n",
       "  'Capital_name': 'Pago Pago'}]"
      ]
     },
     "execution_count": 12,
     "metadata": {},
     "output_type": "execute_result"
    }
   ],
   "source": [
    "# Réponses : \n",
    "\n",
    "# Méthode1 ( sans fonction)\n",
    "from copy import deepcopy\n",
    "new_table=[]\n",
    "for p in pays: \n",
    "        for v in villes:\n",
    "            #  on ne  considère que  les lignes  où les  cellules de  l'attribut\n",
    "            # choisi sont identiques.\n",
    "            if p['idCapital'] == v['id']:\n",
    "                new_line = deepcopy(p) # on copie entièrement p\n",
    "                new_line['Capital_name']=v['CityName']\n",
    "                new_table.append(new_line)\n",
    "\n",
    "new_table[:5]\n"
   ]
  },
  {
   "cell_type": "code",
   "execution_count": 13,
   "metadata": {
    "colab": {},
    "colab_type": "code",
    "id": "yXnsNdDVOuz-"
   },
   "outputs": [
    {
     "name": "stdout",
     "output_type": "stream",
     "text": [
      "[{'ISO': 'AF', 'Country': 'Afghanistan', 'idCapital': '1138958', 'Area': '647500', 'Population': '29121286', 'Continent': 'AS', 'CurrencyCode': 'AFN', 'CurrencyName': 'Afghani', 'Capital_name': 'Kabul'}, {'ISO': 'AX', 'Country': 'Aland Islands', 'idCapital': '3041732', 'Area': '1580', 'Population': '26711', 'Continent': 'EU', 'CurrencyCode': 'EUR', 'CurrencyName': 'Euro', 'Capital_name': 'Mariehamn'}, {'ISO': 'AL', 'Country': 'Albania', 'idCapital': '3183875', 'Area': '28748', 'Population': '2986952', 'Continent': 'EU', 'CurrencyCode': 'ALL', 'CurrencyName': 'Lek', 'Capital_name': 'Tirana'}, {'ISO': 'DZ', 'Country': 'Algeria', 'idCapital': '2507480', 'Area': '2381740', 'Population': '34586184', 'Continent': 'AF', 'CurrencyCode': 'DZD', 'CurrencyName': 'Dinar', 'Capital_name': 'Algiers'}, {'ISO': 'AS', 'Country': 'American Samoa', 'idCapital': '5881576', 'Area': '199', 'Population': '57881', 'Continent': 'OC', 'CurrencyCode': 'USD', 'CurrencyName': 'Dollar', 'Capital_name': 'Pago Pago'}]\n"
     ]
    }
   ],
   "source": [
    "# Méthode 2 ( généralisation avec fonctions)\n",
    "\n",
    "def jointure(table1, table2, cle1, cle2=None):\n",
    "    \"\"\"\n",
    "    Crée une table à partir de deux autres tables \n",
    "    \n",
    "    \"\"\"\n",
    "\n",
    "    if cle2 is None: # Par défaut les clés de jointure portent le même nom\n",
    "        cle2 = cle1\n",
    "    new_table = []  # La future table créée, vide au départ\n",
    "    for ligne1 in table1: \n",
    "        for ligne2 in table2:\n",
    "            #  on ne  considère que les lignes où les cellules de l'attribut\n",
    "            # choisi sont identiques. \n",
    "            if ligne1[cle1] == ligne2[cle2]:\n",
    "                new_line = deepcopy(ligne1) # on copie entièrement la ligne1 de table1\n",
    "                capital=ligne2['CityName'] # on récupère le nom de la ville\n",
    "                new_line['Capital_name']=capital # on ajoute au dictionnaire\n",
    "                new_table.append(new_line) # on ajoute à la liste\n",
    "    return new_table\n",
    "\n",
    "print(jointure(pays,villes,'idCapital','id')[:5])\n",
    "\n",
    "\n",
    "\n"
   ]
  },
  {
   "cell_type": "markdown",
   "metadata": {},
   "source": [
    "### L'année prochaine : Bases de données SQL \n",
    "Les bases de données SQL simplifient le traitement de toutes ces questions.\n",
    "\n",
    "Exemple avec la jointure :\n",
    "\n",
    "SELECT * FROM Pays \n",
    "INNER JOIN Villes ON Pays.id_capital = ville.id\n",
    "\n",
    "ou \n",
    "\n",
    "SELECT * FROM Pays, Villes\n",
    "where Pays.id_capital = ville.id\n",
    "\n"
   ]
  },
  {
   "cell_type": "code",
   "execution_count": null,
   "metadata": {},
   "outputs": [],
   "source": []
  }
 ],
 "metadata": {
  "colab": {
   "name": "Traitement_donnees_tables_csv.ipynb",
   "provenance": [],
   "toc_visible": true
  },
  "kernelspec": {
   "display_name": "Python 3",
   "language": "python",
   "name": "python3"
  },
  "language_info": {
   "codemirror_mode": {
    "name": "ipython",
    "version": 3
   },
   "file_extension": ".py",
   "mimetype": "text/x-python",
   "name": "python",
   "nbconvert_exporter": "python",
   "pygments_lexer": "ipython3",
   "version": "3.7.4"
  }
 },
 "nbformat": 4,
 "nbformat_minor": 1
}
